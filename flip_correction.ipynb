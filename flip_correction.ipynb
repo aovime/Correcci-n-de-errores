{
 "cells": [
  {
   "cell_type": "code",
   "execution_count": 4,
   "metadata": {},
   "outputs": [],
   "source": [
    "import qiskit\n",
    "from qiskit import QuantumCircuit, QuantumRegister, ClassicalRegister, AncillaRegister\n",
    "from qiskit.providers.basic_provider import BasicProvider\n",
    "from qiskit_aer import backends\n",
    "from qiskit import transpile\n",
    "from qiskit.quantum_info.operators import Operator\n",
    "import numpy as np\n",
    "from typing import List"
   ]
  },
  {
   "cell_type": "code",
   "execution_count": 5,
   "metadata": {},
   "outputs": [],
   "source": [
    "qrfc = QuantumRegister(3, name = 'q')\n",
    "arfc = AncillaRegister(2, name = 'a')\n",
    "qcfc = QuantumCircuit(qrfc, arfc, name = 'corrrr')\n",
    "\n",
    "qcfc.cx(qrfc[1], arfc[0])\n",
    "qcfc.cx(qrfc[2], arfc[0])\n",
    "qcfc.cx(qrfc[0], arfc[1])\n",
    "qcfc.cx(qrfc[2], arfc[1])\n",
    "\n",
    "qcfc.barrier()\n",
    "\n",
    "qcfc.ccx(arfc[0], arfc[1], qrfc[2])\n",
    "qcfc.x(arfc[0])\n",
    "qcfc.ccx(arfc[0], arfc[1], qrfc[0])\n",
    "qcfc.x(arfc[0])\n",
    "qcfc.x(arfc[1])\n",
    "qcfc.ccx(arfc[0], arfc[1], qrfc[1])\n",
    "\n",
    "qcfc.initialize(0, arfc)\n",
    "\n",
    "corrrr = qcfc.to_instruction()\n"
   ]
  },
  {
   "cell_type": "code",
   "execution_count": 6,
   "metadata": {},
   "outputs": [],
   "source": [
    "def add_corrections(cwe):\n",
    "    nq = cwe.num_qubits\n",
    "    nc = cwe.num_clbits\n",
    "    data = cwe.data\n",
    "\n",
    "    qreg = QuantumRegister(nq, name = 'q1')\n",
    "    qreg2 = QuantumRegister(nq, name = 'q2')\n",
    "    qreg3 = QuantumRegister(nq, name = 'q3')\n",
    "    creg = ClassicalRegister(nc, name ='c')\n",
    "    anc = AncillaRegister(2, name = 'a')\n",
    "\n",
    "    cqc = QuantumCircuit(qreg, qreg2, qreg3, anc, creg)\n",
    "\n",
    "    for i in range(len(data)):\n",
    "        inst = data[i]\n",
    "        qb = inst.qubits\n",
    "        cb = inst.clbits\n",
    "        \n",
    "        qbi = list(())\n",
    "        cbi = list(())\n",
    "        qbi2 = list(())\n",
    "        qbi3 = list(())\n",
    "        \n",
    "        for b in qb:\n",
    "            ind = b._index\n",
    "            qbi.append(qreg[ind])\n",
    "            qbi2.append(qreg2[ind])\n",
    "            qbi3.append(qreg3[ind])\n",
    "\n",
    "        if (len(cb) > 0):\n",
    "            for ii in range(len(qb)):\n",
    "                cqc.append(corrrr, [qbi[ii], qbi2[ii], qbi3[ii], anc[0], anc[1]])\n",
    "\n",
    "            for b in cb:\n",
    "                ind = b._index\n",
    "                cbi.append(creg[ind])\n",
    "            cqc.append(inst.replace(qubits = qbi, clbits = cbi))\n",
    "\n",
    "        else:\n",
    "            \n",
    "                    \n",
    "            cqc.append(inst.replace(qubits = qbi))\n",
    "            cqc.append(inst.replace(qubits = qbi2))\n",
    "            cqc.append(inst.replace(qubits = qbi3))\n",
    "    \n",
    "    return cqc"
   ]
  }
 ],
 "metadata": {
  "kernelspec": {
   "display_name": "pythonq",
   "language": "python",
   "name": "python3"
  },
  "language_info": {
   "codemirror_mode": {
    "name": "ipython",
    "version": 3
   },
   "file_extension": ".py",
   "mimetype": "text/x-python",
   "name": "python",
   "nbconvert_exporter": "python",
   "pygments_lexer": "ipython3",
   "version": "3.12.3"
  }
 },
 "nbformat": 4,
 "nbformat_minor": 2
}
